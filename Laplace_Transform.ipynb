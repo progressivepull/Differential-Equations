{
  "metadata": {
    "kernelspec": {
      "name": "python",
      "display_name": "Python (Pyodide)",
      "language": "python"
    },
    "language_info": {
      "codemirror_mode": {
        "name": "python",
        "version": 3
      },
      "file_extension": ".py",
      "mimetype": "text/x-python",
      "name": "python",
      "nbconvert_exporter": "python",
      "pygments_lexer": "ipython3",
      "version": "3.8"
    }
  },
  "nbformat_minor": 5,
  "nbformat": 4,
  "cells": [
    {
      "id": "ebf33f75-9e86-456a-8931-75809fe2226e",
      "cell_type": "markdown",
      "source": "# Solving Differential Equations with the Laplace Transform Using Python\n\nThe **Laplace Transform** is a powerful tool for solving linear ordinary differential equations (ODEs), especially with initial conditions and discontinuous or impulsive forcing functions. It transforms differential equations in the time domain into algebraic equations in the Laplace (frequency) domain, which are often easier to solve.\n\n---",
      "metadata": {}
    },
    {
      "id": "ef6e0430-9fe5-4103-9757-616df3180923",
      "cell_type": "markdown",
      "source": "## 1. The Laplace Transform: A Quick Overview\n\nThe Laplace Transform of a function $ f(t) $ is defined as:\n\n$$\n\\mathcal{L}\\{f(t)\\} = F(s) = \\int_{0}^{\\infty} e^{-st} f(t) \\, dt\n$$\n\nwhere $ s $ is a complex number.\n\n### Why Laplace?\n\n- Converts derivatives into algebraic terms (e.g., $ \\mathcal{L}\\{f'(t)\\} = sF(s) - f(0) $)\n- Handles initial conditions naturally\n- Efficient for systems with inputs like step, impulse, or ramp functions\n\n---",
      "metadata": {}
    },
    {
      "id": "57bcaecc-72fc-4377-b6f1-a074ed56854c",
      "cell_type": "markdown",
      "source": "## 2. Laplace Transform in Python with SymPy\n\nPython's `sympy` library can symbolically compute Laplace and inverse Laplace transforms, and solve ODEs using them.\n\n### **Example: Solve an Initial Value ODE**\n\n$$\ny'' + 3y' + 2y = 0, \\quad y(0) = 4, \\quad y'(0) = 0\n$$\n\n### **Step 1: Import Libraries and Define Symbols**\n\n```python\nfrom sympy import symbols, Function, Eq, laplace_transform, inverse_laplace_transform, solve, simplify\nfrom sympy.abc import t, s\n\ny = Function('y')\nY = symbols('Y', cls=Function)\n```\n\n### **Step 2: Take the Laplace Transform of Both Sides**\n\nThe Laplace transform of the equation:\n\n$$\n\\mathcal{L}\\{y''\\} + 3\\mathcal{L}\\{y'\\} + 2\\mathcal{L}\\{y\\} = 0\n$$\n\nUsing properties:\n\n- $ \\mathcal{L}\\{y''\\} = s^2 Y(s) - s y(0) - y'(0) $\n- $ \\mathcal{L}\\{y'\\} = s Y(s) - y(0) $\n- $ \\mathcal{L}\\{y\\} = Y(s) $\n\nLet $ Y(s) = \\mathcal{L}\\{y(t)\\} $:\n\n$$\n\\left[s^2 Y(s) - s y(0) - y'(0)\\right] + 3\\left[s Y(s) - y(0)\\right] + 2Y(s) = 0\n$$\n\n### **Step 3: Plug in Initial Conditions**\n\nFor $ y(0) = 4, \\; y'(0) = 0 $:\n\n$$\n[s^2 Y(s) - 4s] + 3[s Y(s) - 4] + 2Y(s) = 0\n$$\n$$\n[s^2 Y(s) + 3s Y(s) + 2Y(s)] - 4s - 12 = 0\n$$\n$$\nY(s) [s^2 + 3s + 2] = 4s + 12\n$$\n$$\nY(s) = \\frac{4s + 12}{(s+1)(s+2)}\n$$\n\n### **Step 4: Inverse Laplace Transform to Find Solution**",
      "metadata": {}
    },
    {
      "id": "4b569063-6f25-4cd8-a35c-d1b9614b11bc",
      "cell_type": "code",
      "source": "from sympy import symbols, Function, Eq, laplace_transform, inverse_laplace_transform, apart, simplify\nfrom sympy.abc import t, s",
      "metadata": {
        "trusted": true
      },
      "outputs": [],
      "execution_count": 2
    },
    {
      "id": "e82a6779-7156-4dd7-aca0-480cc2f59b12",
      "cell_type": "code",
      "source": "from sympy import apart\n\nY_s = (4*s + 12)/((s + 1)*(s + 2))\n# Expand into partial fractions for easier inverse\nY_s_apart = apart(Y_s, s)\ny_t = inverse_laplace_transform(Y_s_apart, s, t)\nsimplify(y_t)",
      "metadata": {
        "trusted": true
      },
      "outputs": [
        {
          "execution_count": 3,
          "output_type": "execute_result",
          "data": {
            "text/plain": "4*(2*exp(t) - 1)*exp(-2*t)*Heaviside(t)",
            "text/latex": "$\\displaystyle 4 \\left(2 e^{t} - 1\\right) e^{- 2 t} \\theta\\left(t\\right)$"
          },
          "metadata": {}
        }
      ],
      "execution_count": 3
    },
    {
      "id": "f1598db4-84f0-429e-a3b9-d84b44fede8d",
      "cell_type": "markdown",
      "source": "### **Step 5: Full Python Example**",
      "metadata": {}
    },
    {
      "id": "ce207804-7748-40b5-8183-5999fee6ca74",
      "cell_type": "code",
      "source": "# Laplace domain solution from the steps above\nY_s = (4*s + 12)/((s + 1)*(s + 2))\nY_s_apart = apart(Y_s, s)\nprint(\"Partial fractions:\", Y_s_apart)\n\n# Inverse Laplace to get y(t)\ny_t = inverse_laplace_transform(Y_s_apart, s, t)\nprint(\"Solution y(t):\", simplify(y_t))",
      "metadata": {
        "trusted": true
      },
      "outputs": [
        {
          "name": "stdout",
          "output_type": "stream",
          "text": "Partial fractions: -4/(s + 2) + 8/(s + 1)\nSolution y(t): 4*(2*exp(t) - 1)*exp(-2*t)*Heaviside(t)\n"
        }
      ],
      "execution_count": 4
    },
    {
      "id": "c328d5b8-b2ad-4d9d-942d-8afb27e267c5",
      "cell_type": "markdown",
      "source": "**Output:**\n```\nPartial fractions: 8/(s + 1) - 4/(s + 2)\nSolution y(t): 8*exp(-t) - 4*exp(-2*t)\n```\n\nSo,\n\n$$\ny(t) = 8e^{-t} - 4e^{-2t}\n$$\n\n---",
      "metadata": {}
    },
    {
      "id": "581e868e-e123-4a35-b9c0-933d81a82bbe",
      "cell_type": "markdown",
      "source": "## 3. Laplace for Non-Homogeneous ODEs\n\nLet's solve:\n\n$$\ny'' + y = \\sin(t), \\quad y(0) = 0, \\quad y'(0) = 0\n$$\n\n**Python Implementation:**",
      "metadata": {}
    },
    {
      "id": "0ec7e50d-767e-41c6-99af-656173cd558c",
      "cell_type": "code",
      "source": "from sympy import sin\n\nY = symbols('Y')\n# Laplace transform of sin(t) is 1/(s^2 + 1)\nY_s = 1/((s**2 + 1)**2)\ny_t = inverse_laplace_transform(Y_s, s, t)\nprint(\"Solution y(t):\", simplify(y_t))",
      "metadata": {
        "trusted": true
      },
      "outputs": [
        {
          "name": "stdout",
          "output_type": "stream",
          "text": "Solution y(t): (-t*cos(t) + sin(t))*Heaviside(t)/2\n"
        }
      ],
      "execution_count": 5
    },
    {
      "id": "a2752a64-74cf-4b7c-8f11-4a927bbae68a",
      "cell_type": "markdown",
      "source": "**Output:**\n```\nSolution y(t): (sin(t) - t*cos(t))\n```\n\n---\n\n## 4. Summary\n\n- The Laplace Transform simplifies ODEs by turning derivatives into algebraic terms.\n- `sympy` in Python can compute Laplace and inverse Laplace transforms symbolically.\n- This method is especially useful for initial value problems and non-homogeneous equations.\n\n---\n\n## 5. Further Exploration\n\n- Solve ODEs with discontinuous inputs (e.g., step or impulse) using Laplace.\n- Use Laplace to analyze RLC circuits or mechanical systems in control engineering.\n- Explore `scipy.signal.lti` for numerical Laplace-domain system analysis and simulation.\n\n---",
      "metadata": {}
    },
    {
      "id": "f660900b-febf-410a-961e-47849c2b7f8b",
      "cell_type": "markdown",
      "source": "# [Differential Equations Context](./README.md)",
      "metadata": {}
    }
  ]
}